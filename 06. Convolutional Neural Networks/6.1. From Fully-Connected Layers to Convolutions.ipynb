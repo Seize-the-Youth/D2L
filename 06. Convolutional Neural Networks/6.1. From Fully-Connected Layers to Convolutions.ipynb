{
 "cells": [
  {
   "cell_type": "markdown",
   "id": "42131174",
   "metadata": {},
   "source": [
    "# 6.1. From Fully-Connected Layers to Convolutions\n",
    "\n",
    "## 6.1.1. Invariance\n",
    "## 6.1.2. Constraining the MLP\n",
    "\n",
    "### 6.1.2.1. Translation Invariance\n",
    "### 6.1.2.2. Locality\n",
    "\n",
    "## 6.1.3. Convolutions\n",
    "## 6.1.4. “Where’s Waldo” Revisited\n",
    "\n",
    "### 6.1.4.1. Channels\n",
    "\n",
    "## 6.1.5. Summary\n",
    "\n",
    "Translation invariance in images implies that all patches of an image will be treated in the same manner.\n",
    "\n",
    "Locality means that only a small neighborhood of pixels will be used to compute the corresponding hidden representations.\n",
    "\n",
    "In image processing, convolutional layers typically require many fewer parameters than fully-connected layers.\n",
    "\n",
    "CNNS are a special family of neural networks that contain convolutional layers.\n",
    "\n",
    "Channels on input and output allow our model to capture multiple aspects of an image at each spatial location."
   ]
  }
 ],
 "metadata": {
  "kernelspec": {
   "display_name": "Python 3 (ipykernel)",
   "language": "python",
   "name": "python3"
  },
  "language_info": {
   "codemirror_mode": {
    "name": "ipython",
    "version": 3
   },
   "file_extension": ".py",
   "mimetype": "text/x-python",
   "name": "python",
   "nbconvert_exporter": "python",
   "pygments_lexer": "ipython3",
   "version": "3.9.7"
  }
 },
 "nbformat": 4,
 "nbformat_minor": 5
}
