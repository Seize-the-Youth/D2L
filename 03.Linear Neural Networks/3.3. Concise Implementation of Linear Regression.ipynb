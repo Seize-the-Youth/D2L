{
 "cells": [
  {
   "cell_type": "markdown",
   "id": "15130195",
   "metadata": {},
   "source": [
    "# 3.3. Concise Implementation of Linear Regression\n",
    "\n",
    "## 3.3.1. Generating the Dataset"
   ]
  },
  {
   "cell_type": "code",
   "execution_count": 1,
   "id": "58a27fb3",
   "metadata": {},
   "outputs": [],
   "source": [
    "import numpy as np\n",
    "import torch\n",
    "from torch.utils import data\n",
    "from d2l import torch as d2l\n",
    "\n",
    "true_w = torch.tensor([2, -3.4])\n",
    "true_b = 4.2\n",
    "features, labels = d2l.synthetic_data(true_w, true_b, 1000)"
   ]
  },
  {
   "cell_type": "markdown",
   "id": "19dfb03c",
   "metadata": {},
   "source": [
    "## 3.3.2. Reading the Dataset"
   ]
  },
  {
   "cell_type": "code",
   "execution_count": 2,
   "id": "dbe13020",
   "metadata": {},
   "outputs": [
    {
     "data": {
      "text/plain": [
       "[tensor([[ 0.1929,  1.1528],\n",
       "         [-1.2877,  0.2322],\n",
       "         [ 1.1873, -0.2028],\n",
       "         [ 0.0492,  0.4341],\n",
       "         [ 0.4548, -0.6814],\n",
       "         [ 2.3603, -0.5600],\n",
       "         [-0.9309,  0.1731],\n",
       "         [ 0.4171, -0.5638],\n",
       "         [-0.2793, -2.8574],\n",
       "         [ 3.8922,  1.5559]]),\n",
       " tensor([[ 0.6447],\n",
       "         [ 0.8241],\n",
       "         [ 7.2535],\n",
       "         [ 2.8297],\n",
       "         [ 7.4425],\n",
       "         [10.8191],\n",
       "         [ 1.7589],\n",
       "         [ 6.9467],\n",
       "         [13.3825],\n",
       "         [ 6.7166]])]"
      ]
     },
     "execution_count": 2,
     "metadata": {},
     "output_type": "execute_result"
    }
   ],
   "source": [
    "def load_array(data_arrays, batch_size, is_train=True):  #@save\n",
    "    \"\"\"Construct a PyTorch data iterator.\"\"\"\n",
    "    dataset = data.TensorDataset(*data_arrays)\n",
    "    return data.DataLoader(dataset, batch_size, shuffle=is_train)\n",
    "\n",
    "batch_size = 10\n",
    "data_iter = load_array((features, labels), batch_size)\n",
    "\n",
    "next(iter(data_iter))"
   ]
  },
  {
   "cell_type": "markdown",
   "id": "c8f790ed",
   "metadata": {},
   "source": [
    "## 3.3.3. Defining the Model"
   ]
  },
  {
   "cell_type": "code",
   "execution_count": 3,
   "id": "7e344207",
   "metadata": {},
   "outputs": [],
   "source": [
    "# `nn` is an abbreviation for neural networks\n",
    "from torch import nn\n",
    "\n",
    "net = nn.Sequential(nn.Linear(2, 1))"
   ]
  },
  {
   "cell_type": "markdown",
   "id": "d29f7263",
   "metadata": {},
   "source": [
    "## 3.3.4. Initializing Model Parameters"
   ]
  },
  {
   "cell_type": "code",
   "execution_count": 4,
   "id": "40b99b77",
   "metadata": {},
   "outputs": [
    {
     "data": {
      "text/plain": [
       "tensor([0.])"
      ]
     },
     "execution_count": 4,
     "metadata": {},
     "output_type": "execute_result"
    }
   ],
   "source": [
    "net[0].weight.data.normal_(0, 0.01)\n",
    "net[0].bias.data.fill_(0)"
   ]
  },
  {
   "cell_type": "markdown",
   "id": "c263c16c",
   "metadata": {},
   "source": [
    "## 3.3.5. Defining the Loss Function"
   ]
  },
  {
   "cell_type": "code",
   "execution_count": 5,
   "id": "10c6847a",
   "metadata": {},
   "outputs": [],
   "source": [
    "loss = nn.MSELoss()"
   ]
  },
  {
   "cell_type": "markdown",
   "id": "e2e7f8da",
   "metadata": {},
   "source": [
    "## 3.3.6. Defining the Optimization Algorithm"
   ]
  },
  {
   "cell_type": "code",
   "execution_count": 6,
   "id": "90054dcd",
   "metadata": {},
   "outputs": [],
   "source": [
    "trainer = torch.optim.SGD(net.parameters(), lr=0.03)"
   ]
  },
  {
   "cell_type": "markdown",
   "id": "97a1e1e5",
   "metadata": {},
   "source": [
    "## 3.3.7. Training"
   ]
  },
  {
   "cell_type": "code",
   "execution_count": 7,
   "id": "29a8e403",
   "metadata": {},
   "outputs": [
    {
     "name": "stdout",
     "output_type": "stream",
     "text": [
      "epoch 1, loss 0.000241\n",
      "epoch 2, loss 0.000095\n",
      "epoch 3, loss 0.000095\n"
     ]
    }
   ],
   "source": [
    "num_epochs = 3\n",
    "for epoch in range(num_epochs):\n",
    "    for X, y in data_iter:\n",
    "        l = loss(net(X) ,y)\n",
    "        trainer.zero_grad()\n",
    "        l.backward()\n",
    "        trainer.step()\n",
    "    l = loss(net(features), labels)\n",
    "    print(f'epoch {epoch + 1}, loss {l:f}')"
   ]
  },
  {
   "cell_type": "code",
   "execution_count": 8,
   "id": "a9dcd28f",
   "metadata": {},
   "outputs": [
    {
     "name": "stdout",
     "output_type": "stream",
     "text": [
      "error in estimating w: tensor([-0.0001,  0.0006])\n",
      "error in estimating b: tensor([3.2425e-05])\n"
     ]
    }
   ],
   "source": [
    "w = net[0].weight.data\n",
    "print('error in estimating w:', true_w - w.reshape(true_w.shape))\n",
    "b = net[0].bias.data\n",
    "print('error in estimating b:', true_b - b)"
   ]
  },
  {
   "cell_type": "markdown",
   "id": "fd558705",
   "metadata": {},
   "source": [
    "## 3.3.8. Summary\n",
    "\n",
    "Using PyTorch’s high-level APIs, we can implement models much more concisely.\n",
    "\n",
    "In PyTorch, the data module provides tools for data processing, the nn module defines a large number of neural network layers and common loss functions.\n",
    "\n",
    "We can initialize the parameters by replacing their values with methods ending with _."
   ]
  }
 ],
 "metadata": {
  "kernelspec": {
   "display_name": "Python 3 (ipykernel)",
   "language": "python",
   "name": "python3"
  },
  "language_info": {
   "codemirror_mode": {
    "name": "ipython",
    "version": 3
   },
   "file_extension": ".py",
   "mimetype": "text/x-python",
   "name": "python",
   "nbconvert_exporter": "python",
   "pygments_lexer": "ipython3",
   "version": "3.9.7"
  }
 },
 "nbformat": 4,
 "nbformat_minor": 5
}
